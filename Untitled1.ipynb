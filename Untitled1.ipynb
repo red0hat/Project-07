{
 "cells": [
  {
   "cell_type": "code",
   "execution_count": 4,
   "metadata": {
    "collapsed": true
   },
   "outputs": [],
   "source": [
    "import yaml\n",
    "def connect_to_postgres (location = 'remote'):\n",
    "    \"\"\" v 1.2 Open a psycopg2 connection and create a cursor based on a yaml credential file.\n",
    "        The current expected name of the yaml file is \"Database_credentials\"; please customize this to your taste.\n",
    "        The credentials file will look for a entry in the dictionary called 'remote' by default.  If the remote\n",
    "        databse is unavailalbe, it will attempt to connect with the settings the 'local' key.  \n",
    "        Please remember to close the cursor and connection when you are done using them.        \n",
    "    \"\"\"\n",
    "#TO DO: make  'location' to a list and iterate through the list, rather than default to local db.\n",
    "#TO DO: add credential file support as a param for the function call.\n",
    "\n",
    "\n",
    "    with open('lib/credentials.yaml', 'r') as f:\n",
    "        credentials =  yaml.load(f) \n",
    "    \n",
    "    try:\n",
    "        connection = psycopg2.connect(**credentials[location])\n",
    " #       print \"Connected to server {}.\".format(credentials[location]['host'])\n",
    "        return connection, connection.cursor()\n",
    "    except:\n",
    "        print 'FAILED to connect to server {}.  Trying local server.'.format(credentials[location]['host'])\n",
    "        try:\n",
    "            connection = psycopg2.connect(**credentials['local'])\n",
    "            print \"Conencted to localhost.\"\n",
    "            return connection, connection.cursor()\n",
    "        except:\n",
    "            print \"No Database is available\"\n",
    "            pass "
   ]
  },
  {
   "cell_type": "code",
   "execution_count": 5,
   "metadata": {
    "collapsed": false
   },
   "outputs": [
    {
     "name": "stdout",
     "output_type": "stream",
     "text": [
      "FAILED to connect to server localhost.  Trying local server.\n",
      "No Database is available\n"
     ]
    },
    {
     "ename": "TypeError",
     "evalue": "'NoneType' object is not iterable",
     "output_type": "error",
     "traceback": [
      "\u001b[0;31m---------------------------------------------------------------------------\u001b[0m",
      "\u001b[0;31mTypeError\u001b[0m                                 Traceback (most recent call last)",
      "\u001b[0;32m<ipython-input-5-37df9111f862>\u001b[0m in \u001b[0;36m<module>\u001b[0;34m()\u001b[0m\n\u001b[0;32m----> 1\u001b[0;31m \u001b[0mconnection\u001b[0m\u001b[0;34m,\u001b[0m \u001b[0mcursor\u001b[0m \u001b[0;34m=\u001b[0m \u001b[0mconnect_to_postgres\u001b[0m\u001b[0;34m(\u001b[0m\u001b[0;34m'local'\u001b[0m\u001b[0;34m)\u001b[0m\u001b[0;34m\u001b[0m\u001b[0m\n\u001b[0m",
      "\u001b[0;31mTypeError\u001b[0m: 'NoneType' object is not iterable"
     ]
    }
   ],
   "source": [
    "connection, cursor = connect_to_postgres('local')"
   ]
  },
  {
   "cell_type": "code",
   "execution_count": null,
   "metadata": {
    "collapsed": true
   },
   "outputs": [],
   "source": []
  }
 ],
 "metadata": {
  "kernelspec": {
   "display_name": "Python [default]",
   "language": "python",
   "name": "python2"
  },
  "language_info": {
   "codemirror_mode": {
    "name": "ipython",
    "version": 2
   },
   "file_extension": ".py",
   "mimetype": "text/x-python",
   "name": "python",
   "nbconvert_exporter": "python",
   "pygments_lexer": "ipython2",
   "version": "2.7.13"
  }
 },
 "nbformat": 4,
 "nbformat_minor": 2
}
